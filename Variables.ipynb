{
  "nbformat": 4,
  "nbformat_minor": 0,
  "metadata": {
    "colab": {
      "name": "Variables.ipynb",
      "provenance": [],
      "authorship_tag": "ABX9TyOxylhFolvAyXmeP1HvNYaE",
      "include_colab_link": true
    },
    "kernelspec": {
      "name": "python3",
      "display_name": "Python 3"
    }
  },
  "cells": [
    {
      "cell_type": "markdown",
      "metadata": {
        "id": "view-in-github",
        "colab_type": "text"
      },
      "source": [
        "<a href=\"https://colab.research.google.com/github/NGUYEN-VAN-HCMUT/Python_Fundamentals/blob/main/Variables.ipynb\" target=\"_parent\"><img src=\"https://colab.research.google.com/assets/colab-badge.svg\" alt=\"Open In Colab\"/></a>"
      ]
    },
    {
      "cell_type": "markdown",
      "metadata": {
        "id": "9i6fHDwd0SOh"
      },
      "source": [
        "Exercise 1\r\n"
      ]
    },
    {
      "cell_type": "markdown",
      "metadata": {
        "id": "tlmBGEBv0t_K"
      },
      "source": [
        "1.   Tên: Nguyen Van A\r\n",
        "2.   Tuổi: 23\r\n",
        "3.   Vị trí: Phân tích rủi ro\r\n",
        "4.   Độc thân: Đúng\r\n",
        "\r\n",
        "Name(chuỗi), age (số nguyên), position(chuỗi), singe(boolean :True or False)"
      ]
    },
    {
      "cell_type": "code",
      "metadata": {
        "id": "yMT53j-Q0M66"
      },
      "source": [
        "name = 'Nguyen Van A'\r\n",
        "age = 23\r\n",
        "position = 'Phân tích rủi ro'\r\n",
        "is_single = True"
      ],
      "execution_count": null,
      "outputs": []
    },
    {
      "cell_type": "code",
      "metadata": {
        "colab": {
          "base_uri": "https://localhost:8080/"
        },
        "id": "nFP0XPFg1bNv",
        "outputId": "d3cf2043-a5ce-48e3-d143-af61d4dff2f9"
      },
      "source": [
        "print(name)"
      ],
      "execution_count": null,
      "outputs": [
        {
          "output_type": "stream",
          "text": [
            "Nguyen Van A\n"
          ],
          "name": "stdout"
        }
      ]
    },
    {
      "cell_type": "code",
      "metadata": {
        "colab": {
          "base_uri": "https://localhost:8080/"
        },
        "id": "f_kpS7XA1f1E",
        "outputId": "fddb9a49-9eec-4d49-cce5-9ee27c8d434e"
      },
      "source": [
        "print(age)"
      ],
      "execution_count": null,
      "outputs": [
        {
          "output_type": "stream",
          "text": [
            "23\n"
          ],
          "name": "stdout"
        }
      ]
    },
    {
      "cell_type": "code",
      "metadata": {
        "colab": {
          "base_uri": "https://localhost:8080/"
        },
        "id": "RY9zXWNf2wB8",
        "outputId": "a1c9736e-c82a-49fd-9f84-3bf229525417"
      },
      "source": [
        "print(position)"
      ],
      "execution_count": null,
      "outputs": [
        {
          "output_type": "stream",
          "text": [
            "Phân tích rủi ro\n"
          ],
          "name": "stdout"
        }
      ]
    },
    {
      "cell_type": "code",
      "metadata": {
        "colab": {
          "base_uri": "https://localhost:8080/"
        },
        "id": "bsM72xYL2yaW",
        "outputId": "3a1c243f-8bca-4eeb-e066-7d2168dbe088"
      },
      "source": [
        "print(is_single)"
      ],
      "execution_count": null,
      "outputs": [
        {
          "output_type": "stream",
          "text": [
            "True\n"
          ],
          "name": "stdout"
        }
      ]
    },
    {
      "cell_type": "code",
      "metadata": {
        "id": "yOxD2vKJ23iy"
      },
      "source": [
        ""
      ],
      "execution_count": null,
      "outputs": []
    }
  ]
}