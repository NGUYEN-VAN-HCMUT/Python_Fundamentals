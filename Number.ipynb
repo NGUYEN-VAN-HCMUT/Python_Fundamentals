{
  "nbformat": 4,
  "nbformat_minor": 0,
  "metadata": {
    "colab": {
      "name": "Number.ipynb",
      "provenance": [],
      "authorship_tag": "ABX9TyPfgxGG8avbQUZsh7ba4fcy",
      "include_colab_link": true
    },
    "kernelspec": {
      "name": "python3",
      "display_name": "Python 3"
    }
  },
  "cells": [
    {
      "cell_type": "markdown",
      "metadata": {
        "id": "view-in-github",
        "colab_type": "text"
      },
      "source": [
        "<a href=\"https://colab.research.google.com/github/NGUYEN-VAN-HCMUT/Python_Fundamentals/blob/main/Number.ipynb\" target=\"_parent\"><img src=\"https://colab.research.google.com/assets/colab-badge.svg\" alt=\"Open In Colab\"/></a>"
      ]
    },
    {
      "cell_type": "markdown",
      "metadata": {
        "id": "IxvAjdJeDuQa"
      },
      "source": [
        "Exercise 3\r\n"
      ]
    },
    {
      "cell_type": "markdown",
      "metadata": {
        "id": "45eT-odvDxy9"
      },
      "source": [
        "\r\n",
        "1.   In ra Tôi là vua phép cộng\r\n",
        "2.   Yêu cầu: Nhập vào giá trị của a\r\n",
        "3.   Yêu cầu: Nhập vào giá trị của b\r\n",
        "4.   In ra: a +b = giá trị \r\n",
        "\r\n",
        "\r\n",
        "\r\n",
        "\r\n",
        "\r\n",
        "\r\n",
        "\r\n",
        "\r\n"
      ]
    },
    {
      "cell_type": "code",
      "metadata": {
        "colab": {
          "base_uri": "https://localhost:8080/"
        },
        "id": "fNIxrqHpByBj",
        "outputId": "f531116e-15e0-4c13-f42d-f64c8effc3b2"
      },
      "source": [
        "print('Tôi là vua phép cộng')\r\n",
        "a = int(input('Nhập vào giá trị của a'))\r\n",
        "b = int(input('Nhập vào giá trị của b'))\r\n",
        "print('a + b = {}'.format(a+b))"
      ],
      "execution_count": 2,
      "outputs": [
        {
          "output_type": "stream",
          "text": [
            "Tôi là vua phép cộng\n",
            "Nhập vào giá trị của a3\n",
            "Nhập vào giá trị của b4\n",
            "a + b = 7\n"
          ],
          "name": "stdout"
        }
      ]
    },
    {
      "cell_type": "code",
      "metadata": {
        "id": "6vQTTkciFm_5"
      },
      "source": [
        ""
      ],
      "execution_count": null,
      "outputs": []
    }
  ]
}