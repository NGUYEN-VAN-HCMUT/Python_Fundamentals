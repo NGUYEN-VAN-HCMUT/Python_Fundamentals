{
  "nbformat": 4,
  "nbformat_minor": 0,
  "metadata": {
    "colab": {
      "name": "Basic Python_1.ipynb",
      "provenance": [],
      "authorship_tag": "ABX9TyM+ESwpULUgh9xnzvpGEicD",
      "include_colab_link": true
    },
    "kernelspec": {
      "name": "python3",
      "display_name": "Python 3"
    }
  },
  "cells": [
    {
      "cell_type": "markdown",
      "metadata": {
        "id": "view-in-github",
        "colab_type": "text"
      },
      "source": [
        "<a href=\"https://colab.research.google.com/github/NGUYEN-VAN-HCMUT/Python_Fundamentals/blob/main/Basic_Python_1.ipynb\" target=\"_parent\"><img src=\"https://colab.research.google.com/assets/colab-badge.svg\" alt=\"Open In Colab\"/></a>"
      ]
    },
    {
      "cell_type": "markdown",
      "metadata": {
        "id": "F1AHbxcuzzPR"
      },
      "source": [
        "***Core Python***"
      ]
    },
    {
      "cell_type": "markdown",
      "metadata": {
        "id": "I5Wx_laq0A9z"
      },
      "source": [
        "\n",
        "\n",
        "1.   **Variables**\n",
        "\n",
        "\n"
      ]
    },
    {
      "cell_type": "code",
      "metadata": {
        "colab": {
          "base_uri": "https://localhost:8080/"
        },
        "id": "XEQ61pz7xt3o",
        "outputId": "c8a2587b-d9b6-498a-d5c1-272c378b7bd0"
      },
      "source": [
        "b = 2 # b is integer type\n",
        "print(b)  "
      ],
      "execution_count": 1,
      "outputs": [
        {
          "output_type": "stream",
          "text": [
            "2\n"
          ],
          "name": "stdout"
        }
      ]
    },
    {
      "cell_type": "code",
      "metadata": {
        "colab": {
          "base_uri": "https://localhost:8080/"
        },
        "id": "-A2UWgCZxsUw",
        "outputId": "30011f31-aefe-4851-857c-66d5c08042e3"
      },
      "source": [
        "b = b*2.0 # b is float type\n",
        "print(b)"
      ],
      "execution_count": 2,
      "outputs": [
        {
          "output_type": "stream",
          "text": [
            "4.0\n"
          ],
          "name": "stdout"
        }
      ]
    },
    {
      "cell_type": "markdown",
      "metadata": {
        "id": "-WXFHOhl0vuV"
      },
      "source": [
        "\n",
        "2.   **Strings**\n",
        "\n"
      ]
    },
    {
      "cell_type": "markdown",
      "metadata": {
        "id": "9dfMAZ2d4rER"
      },
      "source": [
        "A string is a sequence of characters enclosed in single or double quotes. Strings are concatenated with the plus (+) operator, whereas slicing (:) is used to extract a por- tion of the string. "
      ]
    },
    {
      "cell_type": "code",
      "metadata": {
        "colab": {
          "base_uri": "https://localhost:8080/"
        },
        "id": "rZggUHsQ0zHr",
        "outputId": "ba135e69-79a6-481e-a905-9628d58bf34f"
      },
      "source": [
        "string1 = 'Press return to exit'\n",
        "string2 = 'the program'\n",
        "print(string1 + ' ' + string2)  # Concatenation\n",
        "print(string1[0:12])            # Slicing\n"
      ],
      "execution_count": 4,
      "outputs": [
        {
          "output_type": "stream",
          "text": [
            "Press return to exit the program\n",
            "Press return\n"
          ],
          "name": "stdout"
        }
      ]
    },
    {
      "cell_type": "code",
      "metadata": {
        "colab": {
          "base_uri": "https://localhost:8080/"
        },
        "id": "idRKzRXv334I",
        "outputId": "930bbf21-013d-4cc2-c7cc-26961d30ca4b"
      },
      "source": [
        "s = '3 9 81'\n",
        "print(s.split())    # Delimiter is white space"
      ],
      "execution_count": 6,
      "outputs": [
        {
          "output_type": "stream",
          "text": [
            "['3', '9', '81']\n"
          ],
          "name": "stdout"
        }
      ]
    },
    {
      "cell_type": "code",
      "metadata": {
        "colab": {
          "base_uri": "https://localhost:8080/",
          "height": 35
        },
        "id": "4OQgCK9o4U2W",
        "outputId": "bdceb5dd-09c3-46ee-fabb-2024d2fb9261"
      },
      "source": [
        "s = 'Press return to exit'\n",
        "s[0] "
      ],
      "execution_count": 9,
      "outputs": [
        {
          "output_type": "execute_result",
          "data": {
            "application/vnd.google.colaboratory.intrinsic+json": {
              "type": "string"
            },
            "text/plain": [
              "'P'"
            ]
          },
          "metadata": {
            "tags": []
          },
          "execution_count": 9
        }
      ]
    },
    {
      "cell_type": "markdown",
      "metadata": {
        "id": "LLGND5U85g9x"
      },
      "source": [
        "\n",
        "\n",
        "3.   **Tuples**\n",
        "\n",
        "\n"
      ]
    },
    {
      "cell_type": "markdown",
      "metadata": {
        "id": "DtSArqVW5oya"
      },
      "source": [
        "A tuple is a sequence of arbitrary objects separated by commas and enclosed in parentheses. If the tuple contains a single object, a final comma is required; for example, x = (2,). Tuples support the same operations as strings; they are also immutable."
      ]
    },
    {
      "cell_type": "code",
      "metadata": {
        "id": "uE68pjK75q7T"
      },
      "source": [
        ""
      ],
      "execution_count": null,
      "outputs": []
    }
  ]
}