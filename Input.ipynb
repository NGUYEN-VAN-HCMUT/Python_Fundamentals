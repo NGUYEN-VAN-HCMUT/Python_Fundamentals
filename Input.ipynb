{
  "nbformat": 4,
  "nbformat_minor": 0,
  "metadata": {
    "colab": {
      "name": "Input.ipynb",
      "provenance": [],
      "authorship_tag": "ABX9TyM527MjwJjysjNTcCkQdIdd",
      "include_colab_link": true
    },
    "kernelspec": {
      "name": "python3",
      "display_name": "Python 3"
    }
  },
  "cells": [
    {
      "cell_type": "markdown",
      "metadata": {
        "id": "view-in-github",
        "colab_type": "text"
      },
      "source": [
        "<a href=\"https://colab.research.google.com/github/NGUYEN-VAN-HCMUT/Python_Fundamentals/blob/main/Input.ipynb\" target=\"_parent\"><img src=\"https://colab.research.google.com/assets/colab-badge.svg\" alt=\"Open In Colab\"/></a>"
      ]
    },
    {
      "cell_type": "markdown",
      "metadata": {
        "id": "oRyK21B67koD"
      },
      "source": [
        "Exercise 2"
      ]
    },
    {
      "cell_type": "markdown",
      "metadata": {
        "id": "XxwKe60f8huk"
      },
      "source": [
        "\r\n",
        "\r\n",
        "1.   Input : Xin chào bạn tên là gì?\r\n",
        "2.   Input : Bạn thích xem phim gì?\r\n",
        "3.   Print('ten + loại phim bạn đó yêu thích')\r\n",
        "\r\n"
      ]
    },
    {
      "cell_type": "code",
      "metadata": {
        "id": "bCNHlDqwADbG",
        "colab": {
          "base_uri": "https://localhost:8080/"
        },
        "outputId": "01d5aece-5652-4e48-bcf0-e4d7a26dc2ce"
      },
      "source": [
        "name = input('Xin chào bạn tên là gì')\r\n",
        "movie = input('Bạn thích xem phim gì')\r\n",
        "print('{}'.format(name) + ' ' + 'thích xem phim {}'.format(movie) + ' '+':D')"
      ],
      "execution_count": 6,
      "outputs": [
        {
          "output_type": "stream",
          "text": [
            "Xin chào bạn tên là gìVân\n",
            "Bạn thích xem phim gìtình cảm\n",
            "Vân thích xem phim tình cảm :D\n"
          ],
          "name": "stdout"
        }
      ]
    },
    {
      "cell_type": "code",
      "metadata": {
        "id": "5fnE05xdBLfC"
      },
      "source": [
        ""
      ],
      "execution_count": null,
      "outputs": []
    }
  ]
}