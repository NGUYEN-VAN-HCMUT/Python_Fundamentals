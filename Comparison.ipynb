{
  "nbformat": 4,
  "nbformat_minor": 0,
  "metadata": {
    "colab": {
      "name": "Comparison.ipynb",
      "provenance": [],
      "authorship_tag": "ABX9TyPrJUowJ/hvjN3zOa0KFkuh",
      "include_colab_link": true
    },
    "kernelspec": {
      "name": "python3",
      "display_name": "Python 3"
    }
  },
  "cells": [
    {
      "cell_type": "markdown",
      "metadata": {
        "id": "view-in-github",
        "colab_type": "text"
      },
      "source": [
        "<a href=\"https://colab.research.google.com/github/NGUYEN-VAN-HCMUT/Python_Fundamentals/blob/main/Comparison.ipynb\" target=\"_parent\"><img src=\"https://colab.research.google.com/assets/colab-badge.svg\" alt=\"Open In Colab\"/></a>"
      ]
    },
    {
      "cell_type": "markdown",
      "metadata": {
        "id": "5eITS8xIs8OT"
      },
      "source": [
        "Exercise 4\r\n"
      ]
    },
    {
      "cell_type": "code",
      "metadata": {
        "colab": {
          "base_uri": "https://localhost:8080/"
        },
        "id": "MlQtoeF0XpKh",
        "outputId": "efc26579-a417-4514-bd10-e2c4fea84574"
      },
      "source": [
        "a = 'Monkey'\r\n",
        "b = 'Monkey'\r\n",
        "print(a == b)"
      ],
      "execution_count": 1,
      "outputs": [
        {
          "output_type": "stream",
          "text": [
            "True\n"
          ],
          "name": "stdout"
        }
      ]
    },
    {
      "cell_type": "code",
      "metadata": {
        "colab": {
          "base_uri": "https://localhost:8080/"
        },
        "id": "1ndpyqAOtSN5",
        "outputId": "52022148-aedd-4e6a-bd5c-ad249e7dfe28"
      },
      "source": [
        "a = 20 // 5\r\n",
        "b = 4\r\n",
        "print(a > b)"
      ],
      "execution_count": 2,
      "outputs": [
        {
          "output_type": "stream",
          "text": [
            "False\n"
          ],
          "name": "stdout"
        }
      ]
    },
    {
      "cell_type": "code",
      "metadata": {
        "colab": {
          "base_uri": "https://localhost:8080/"
        },
        "id": "fM7KAHg9tkee",
        "outputId": "8c28cae7-f925-44aa-ff73-c6471096605d"
      },
      "source": [
        "a = -1 * -100\r\n",
        "b = 100\r\n",
        "print(a >= b)"
      ],
      "execution_count": 3,
      "outputs": [
        {
          "output_type": "stream",
          "text": [
            "True\n"
          ],
          "name": "stdout"
        }
      ]
    },
    {
      "cell_type": "code",
      "metadata": {
        "colab": {
          "base_uri": "https://localhost:8080/"
        },
        "id": "lhIPhfhFtuCb",
        "outputId": "9f96e3ef-0285-478d-90a4-2d59584134c1"
      },
      "source": [
        "a = 4\r\n",
        "b = 4.0\r\n",
        "print(a != b)"
      ],
      "execution_count": 4,
      "outputs": [
        {
          "output_type": "stream",
          "text": [
            "False\n"
          ],
          "name": "stdout"
        }
      ]
    },
    {
      "cell_type": "code",
      "metadata": {
        "colab": {
          "base_uri": "https://localhost:8080/"
        },
        "id": "CIBN7JOUt12S",
        "outputId": "32f05251-76df-4903-9026-2548af696688"
      },
      "source": [
        "a = 4 * 2 + 1\r\n",
        "b = 5 -4 + 7\r\n",
        "print(a < b)"
      ],
      "execution_count": 5,
      "outputs": [
        {
          "output_type": "stream",
          "text": [
            "False\n"
          ],
          "name": "stdout"
        }
      ]
    },
    {
      "cell_type": "code",
      "metadata": {
        "colab": {
          "base_uri": "https://localhost:8080/"
        },
        "id": "ICa7CWnEu-Gz",
        "outputId": "29da0730-6bda-4876-b21f-2f550db24a13"
      },
      "source": [
        "a = True\r\n",
        "b = False\r\n",
        "print(a <= b)"
      ],
      "execution_count": 7,
      "outputs": [
        {
          "output_type": "stream",
          "text": [
            "False\n"
          ],
          "name": "stdout"
        }
      ]
    }
  ]
}