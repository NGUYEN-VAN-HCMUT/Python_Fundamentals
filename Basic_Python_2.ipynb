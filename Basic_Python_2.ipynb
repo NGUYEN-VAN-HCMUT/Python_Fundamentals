{
  "nbformat": 4,
  "nbformat_minor": 0,
  "metadata": {
    "colab": {
      "name": "Basic Python_2.ipynb",
      "provenance": [],
      "authorship_tag": "ABX9TyPzEa3HKv752mMQLTSPhRqN",
      "include_colab_link": true
    },
    "kernelspec": {
      "name": "python3",
      "display_name": "Python 3"
    }
  },
  "cells": [
    {
      "cell_type": "markdown",
      "metadata": {
        "id": "view-in-github",
        "colab_type": "text"
      },
      "source": [
        "<a href=\"https://colab.research.google.com/github/NGUYEN-VAN-HCMUT/Python_Fundamentals/blob/main/Basic_Python_2.ipynb\" target=\"_parent\"><img src=\"https://colab.research.google.com/assets/colab-badge.svg\" alt=\"Open In Colab\"/></a>"
      ]
    },
    {
      "cell_type": "markdown",
      "metadata": {
        "id": "Qn_yr5dxNbrN"
      },
      "source": [
        "\n",
        "1.   ***Arithmetic Operators***\n"
      ]
    },
    {
      "cell_type": "markdown",
      "metadata": {
        "id": "CaDLLf5MNfD5"
      },
      "source": [
        "Python supports the usual arithmetic operators\n",
        "\n",
        "---\n",
        "\n",
        "$+$ Addition\n",
        "\n",
        "$−$ Subtraction\n",
        "\n",
        "$∗$ Multiplication\n",
        "\n",
        "$/$ Division\n",
        "\n",
        "$∗∗$ Exponentiation\n",
        "\n",
        "$\\%$ Modular division List item\n",
        "\n",
        "---\n",
        "a += b a = a + b\n",
        "\n",
        "a -= b a = a - b\n",
        "\n",
        "a $*$= b a = $a*b$\n",
        "\n",
        "a /= b a = a/b\n",
        "\n",
        "a $**$= b a = $a**b$\n",
        "\n",
        "a $\\%$= b a = $a\\%b$\n",
        "\n",
        "\n"
      ]
    },
    {
      "cell_type": "code",
      "metadata": {
        "colab": {
          "base_uri": "https://localhost:8080/"
        },
        "id": "Y8cZFfGtM6PW",
        "outputId": "98d715be-02b3-4e67-bac9-870b45eba4b8"
      },
      "source": [
        "s = 'Hello'\n",
        "t = 'to you'\n",
        "a = [1, 2, 3]\n",
        "print(3*s) # Repetition\n",
        "\n",
        "print(3*a) # Repetition\n",
        "print(a + [4, 5])  # Append elements\n",
        "print(s + t) # Concatenation\n"
      ],
      "execution_count": 1,
      "outputs": [
        {
          "output_type": "stream",
          "text": [
            "HelloHelloHello\n",
            "[1, 2, 3, 1, 2, 3, 1, 2, 3]\n",
            "[1, 2, 3, 4, 5]\n",
            "Helloto you\n"
          ],
          "name": "stdout"
        }
      ]
    },
    {
      "cell_type": "markdown",
      "metadata": {
        "id": "lJNToD0iTpIG"
      },
      "source": [
        "print(3 + s) # This addition makes no sense\n",
        "\n",
        "TypeError: unsupported operand type(s) for +: ’int’ and ’str’\n"
      ]
    },
    {
      "cell_type": "markdown",
      "metadata": {
        "id": "mURorHjATyv2"
      },
      "source": [
        "\n",
        "\n",
        "2.   ***Comparison Operators***\n",
        "\n"
      ]
    },
    {
      "cell_type": "markdown",
      "metadata": {
        "id": "3ymExYStT1yQ"
      },
      "source": [
        "$<$ Less than\n",
        "\n",
        "$>$ Greater than\n",
        "\n",
        "$<=$ Less than or equal to\n",
        "\n",
        "$>=$ Greater than or equal to\n",
        "\n",
        "$==$ Equal to\n",
        "\n",
        "$!=$ Not equal to"
      ]
    },
    {
      "cell_type": "code",
      "metadata": {
        "colab": {
          "base_uri": "https://localhost:8080/"
        },
        "id": "dUqZnt3VTiN8",
        "outputId": "7933a778-f325-4df7-cebb-c2c3095f6121"
      },
      "source": [
        "a = 2 # Integer\n",
        "b = 1.99 # Floating point\n",
        "c = '2' # String\n",
        "print(a > b)\n",
        "print(a == c)\n",
        "print((a > b) and (a != c))\n",
        "print((a > b) or (a == b))"
      ],
      "execution_count": 4,
      "outputs": [
        {
          "output_type": "stream",
          "text": [
            "True\n",
            "False\n",
            "True\n",
            "True\n"
          ],
          "name": "stdout"
        }
      ]
    },
    {
      "cell_type": "markdown",
      "metadata": {
        "id": "TAM2SLeNwpor"
      },
      "source": [
        "\n",
        "3.   **Conditionals**\n",
        "\n"
      ]
    },
    {
      "cell_type": "markdown",
      "metadata": {
        "id": "xj5p6ts4w3oB"
      },
      "source": [
        "\n",
        "The if construct\n",
        "\n",
        "                    If condition: \n",
        "\n",
        "                       block\n",
        "\n",
        "executes a block of statements (which must be indented) if the condition returns True. If the condition returns False, the block is skipped. The if conditional can be followed by any number of elif (short for “else if”) constructs\n",
        "\n",
        "                    elif condition: \n",
        "\n",
        "                       block\n",
        "\n",
        "that work in the same manner. The else clause\n",
        "\n",
        "                      else: \n",
        "\n",
        "                          block\n",
        "\n",
        "\n",
        "can be used to define the block of statements that are to be executed if none of the ifelif clauses are true. The function sign of a illustrates the use of the conditionals."
      ]
    },
    {
      "cell_type": "code",
      "metadata": {
        "colab": {
          "base_uri": "https://localhost:8080/"
        },
        "id": "x01CPM4tx04r",
        "outputId": "e444c489-2835-4751-d48c-ab3f71f09328"
      },
      "source": [
        "def sign_of_a(a):\n",
        "    if a < 0.0:\n",
        "        sign = 'negative'\n",
        "    elif a > 0.0:\n",
        "        sign = 'positive'\n",
        "    else:\n",
        "        sign = 'zero'\n",
        "    return sign\n",
        "a = 1.5\n",
        "print('a is' + ' ' + sign_of_a(a))\n"
      ],
      "execution_count": 6,
      "outputs": [
        {
          "output_type": "stream",
          "text": [
            "a is positive\n"
          ],
          "name": "stdout"
        }
      ]
    },
    {
      "cell_type": "markdown",
      "metadata": {
        "id": "QNIOCezrzK88"
      },
      "source": [
        "\n",
        "\n",
        "4.   **Loops**"
      ]
    },
    {
      "cell_type": "markdown",
      "metadata": {
        "id": "9piXLoo0zQ2W"
      },
      "source": [
        "The while construct\n",
        " \n",
        "                    while condition: \n",
        " \n",
        "                        block\n",
        "\n",
        "executes a block of (indented) statements if the condition is True. After execution of the block, the condition is evaluated again. If it is still True, the block is executed again. This process is continued until the condition becomes False. The else clause\n",
        "\n",
        "                        else: \n",
        " \n",
        "                            block\n",
        "\n",
        "\n",
        "can be used to define the block of statements that are to be executed if the condition is false. Here is an example that creates the list [1, 1/2, 1/3, . . .]:"
      ]
    },
    {
      "cell_type": "code",
      "metadata": {
        "colab": {
          "base_uri": "https://localhost:8080/"
        },
        "id": "dRiQ9amWx7vj",
        "outputId": "e258bd1d-7805-42be-cf9f-617b232b71a6"
      },
      "source": [
        "nMax = 5\n",
        "n=1\n",
        "a = [] # Create empty list \n",
        "while n < nMax:\n",
        "    a.append(1.0/n)  # Append element to list\n",
        "    n=n+1 \n",
        "print(a)"
      ],
      "execution_count": 7,
      "outputs": [
        {
          "output_type": "stream",
          "text": [
            "[1.0, 0.5, 0.3333333333333333, 0.25]\n"
          ],
          "name": "stdout"
        }
      ]
    },
    {
      "cell_type": "markdown",
      "metadata": {
        "id": "fgsOyyRV0U8V"
      },
      "source": [
        "We met the for statement in Section 1.1. This statement requires a target and a\n",
        "\n",
        "          for target in sequence: \n",
        "      \n",
        "               block\n",
        "\n",
        "sequence over which the target loops. The form of the construct is\n",
        "You may add an else clause that is executed after the for loop has finished. The previous program could be written with the for construct as"
      ]
    },
    {
      "cell_type": "code",
      "metadata": {
        "colab": {
          "base_uri": "https://localhost:8080/"
        },
        "id": "qCY3qSOl0eDs",
        "outputId": "5b55e9b6-8e4c-42d4-d6e6-b13b1082e8ce"
      },
      "source": [
        "nMax = 5\n",
        "a = []\n",
        "for n in range(1,nMax):\n",
        "    a.append(1.0/n)\n",
        "print(a)"
      ],
      "execution_count": 8,
      "outputs": [
        {
          "output_type": "stream",
          "text": [
            "[1.0, 0.5, 0.3333333333333333, 0.25]\n"
          ],
          "name": "stdout"
        }
      ]
    },
    {
      "cell_type": "markdown",
      "metadata": {
        "id": "Vwn9-W6B1lWm"
      },
      "source": [
        "Here n is the target, and the range object [1, 2, . . . , nMax − 1] (created by calling the range function) is the sequence.\n",
        "Any loop can be terminated by the\n",
        "\n",
        "                              break\n",
        "\n",
        "statement. If there is an else cause associated with the loop, it is not executed. The following program, which searches for a name in a list, illustrates the use of break and else in conjunction with a for loop:\n",
        "                    "
      ]
    },
    {
      "cell_type": "code",
      "metadata": {
        "colab": {
          "base_uri": "https://localhost:8080/"
        },
        "id": "jbjlWlfh1v1n",
        "outputId": "47f01110-5923-4cac-ae3b-29fa58fc1923"
      },
      "source": [
        "list = ['Jack', 'Jill', 'Tim', 'Dave']\n",
        "name = eval(input('Type a name: '))  # Python input prompt\n",
        "for i in range(len(list)):\n",
        "    if list[i] == name:\n",
        "        print(name,'is number',i + 1,'on the list')\n",
        "        break\n",
        "else:\n",
        "    print(name,'is not on the list')\n"
      ],
      "execution_count": 11,
      "outputs": [
        {
          "output_type": "stream",
          "text": [
            "Type a name: 'Tim'\n",
            "Tim is number 3 on the list\n"
          ],
          "name": "stdout"
        }
      ]
    },
    {
      "cell_type": "markdown",
      "metadata": {
        "id": "M9bKs5D84FbK"
      },
      "source": [
        "\n",
        "The\n",
        "\n",
        "                              continue\n",
        "\n",
        "                              \n",
        "statement allows us to skip a portion of an iterative loop. If the interpreter encounters the continue statement, it immediately returns to the beginning of the loop without executing the statements that follow continue. The following example compiles a list of all numbers between 1 and 99 that are divisible by 7."
      ]
    },
    {
      "cell_type": "code",
      "metadata": {
        "colab": {
          "base_uri": "https://localhost:8080/"
        },
        "id": "9AVFGyeL4EZL",
        "outputId": "e5ff7636-e2fc-4250-84ed-f2bae7df798e"
      },
      "source": [
        "x = []                   # Create an empty list\n",
        "for i in range(1,100):\n",
        "  if i%7 != 0: continue  # If not divisible by 7, skip rest of loop\n",
        "  x.append(i)            # Append i to the list\n",
        "print(x)\n"
      ],
      "execution_count": 12,
      "outputs": [
        {
          "output_type": "stream",
          "text": [
            "[7, 14, 21, 28, 35, 42, 49, 56, 63, 70, 77, 84, 91, 98]\n"
          ],
          "name": "stdout"
        }
      ]
    }
  ]
}