{
  "nbformat": 4,
  "nbformat_minor": 0,
  "metadata": {
    "colab": {
      "name": "While1&2.ipynb",
      "provenance": [],
      "authorship_tag": "ABX9TyOjitFUKS2lRK9sv/BAMv5a",
      "include_colab_link": true
    },
    "kernelspec": {
      "name": "python3",
      "display_name": "Python 3"
    }
  },
  "cells": [
    {
      "cell_type": "markdown",
      "metadata": {
        "id": "view-in-github",
        "colab_type": "text"
      },
      "source": [
        "<a href=\"https://colab.research.google.com/github/NGUYEN-VAN-HCMUT/Python_Fundamentals/blob/main/While1%262.ipynb\" target=\"_parent\"><img src=\"https://colab.research.google.com/assets/colab-badge.svg\" alt=\"Open In Colab\"/></a>"
      ]
    },
    {
      "cell_type": "markdown",
      "metadata": {
        "id": "d9jF8npjFYNl"
      },
      "source": [
        "Exercise 7"
      ]
    },
    {
      "cell_type": "markdown",
      "metadata": {
        "id": "mfDtK6LqFb3T"
      },
      "source": [
        "**Lý thuyết**\r\n",
        "\r\n",
        "***Dạng 1***\r\n",
        "\r\n",
        "while True:\r\n",
        "\r\n",
        "    print('tính tổng')\r\n",
        "    print('tính tích')\r\n",
        "    .....\r\n",
        "\r\n",
        "# vòng lặp sẽ chạy mãi mãi\r\n",
        "\r\n",
        "***Dạng 2***\r\n",
        "\r\n",
        "i = 0\r\n",
        "\r\n",
        "while i < 6:\r\n",
        "\r\n",
        "    print(i)\r\n",
        "    i += 1\r\n",
        "\r\n",
        "# 0, 1,2,3,4,5 (Có điều kiện để dừng lại)\r\n",
        "\r\n"
      ]
    },
    {
      "cell_type": "markdown",
      "metadata": {
        "id": "Y3VOVW9YIfJK"
      },
      "source": [
        "***Yêu cầu***\r\n",
        "\r\n",
        "In ra 10 số dương"
      ]
    },
    {
      "cell_type": "code",
      "metadata": {
        "colab": {
          "base_uri": "https://localhost:8080/"
        },
        "id": "PNfV23KVFU_J",
        "outputId": "e877a5d3-53e2-43f5-944b-d6ff2def1444"
      },
      "source": [
        "i = 0\r\n",
        "while i < 11:\r\n",
        "  print(i)\r\n",
        "  i += 1"
      ],
      "execution_count": 2,
      "outputs": [
        {
          "output_type": "stream",
          "text": [
            "0\n",
            "1\n",
            "2\n",
            "3\n",
            "4\n",
            "5\n",
            "6\n",
            "7\n",
            "8\n",
            "9\n",
            "10\n"
          ],
          "name": "stdout"
        }
      ]
    },
    {
      "cell_type": "markdown",
      "metadata": {
        "id": "dDkMiT55JE2J"
      },
      "source": [
        "***Yêu cầu***\r\n",
        "\r\n",
        "In ra 6 số chẵn"
      ]
    },
    {
      "cell_type": "code",
      "metadata": {
        "colab": {
          "base_uri": "https://localhost:8080/"
        },
        "id": "ITcWsXWgI2AQ",
        "outputId": "05da37ef-9237-45d7-ca02-e05ad1fb57e9"
      },
      "source": [
        "i =0\r\n",
        "while i < 12:\r\n",
        "  print(i)\r\n",
        "  i += 2"
      ],
      "execution_count": 5,
      "outputs": [
        {
          "output_type": "stream",
          "text": [
            "0\n",
            "2\n",
            "4\n",
            "6\n",
            "8\n",
            "10\n"
          ],
          "name": "stdout"
        }
      ]
    }
  ]
}