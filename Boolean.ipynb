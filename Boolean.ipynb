{
  "nbformat": 4,
  "nbformat_minor": 0,
  "metadata": {
    "colab": {
      "name": "Boolean.ipynb",
      "provenance": [],
      "authorship_tag": "ABX9TyMwkoezVOuPYMUrfXaFD99b",
      "include_colab_link": true
    },
    "kernelspec": {
      "name": "python3",
      "display_name": "Python 3"
    }
  },
  "cells": [
    {
      "cell_type": "markdown",
      "metadata": {
        "id": "view-in-github",
        "colab_type": "text"
      },
      "source": [
        "<a href=\"https://colab.research.google.com/github/NGUYEN-VAN-HCMUT/Python_Fundamentals/blob/main/Boolean.ipynb\" target=\"_parent\"><img src=\"https://colab.research.google.com/assets/colab-badge.svg\" alt=\"Open In Colab\"/></a>"
      ]
    },
    {
      "cell_type": "markdown",
      "metadata": {
        "id": "iXeHvYPT4aP8"
      },
      "source": [
        "Exercise 5\r\n"
      ]
    },
    {
      "cell_type": "markdown",
      "metadata": {
        "id": "7KtApAR-4imR"
      },
      "source": [
        "Lý thuyết Boolean"
      ]
    },
    {
      "cell_type": "markdown",
      "metadata": {
        "id": "BJMorQ4A4ZtN"
      },
      "source": [
        "\r\n",
        "\r\n",
        "1.   AND\r\n",
        "\r\n",
        "*   True and False --> False \r\n",
        "*   False and True --> False\r\n",
        "*   True and True --> True \r\n",
        "*   False and False --> False\r\n",
        "\r\n",
        "2.   OR\r\n",
        "\r\n",
        "*   True or False --> True \r\n",
        "*   False or True --> True\r\n",
        "*   True or True --> True \r\n",
        "*   False or False --> False\r\n",
        "\r\n",
        "3.   NOT\r\n",
        "\r\n",
        "*   Not False --> True \r\n",
        "*   Not True --> False\r\n",
        "\r\n",
        "\r\n"
      ]
    },
    {
      "cell_type": "code",
      "metadata": {
        "colab": {
          "base_uri": "https://localhost:8080/"
        },
        "id": "9Oybf6Ew3dyt",
        "outputId": "cb4245b5-6e4b-4100-a4dc-6621334862f0"
      },
      "source": [
        "x = 3\r\n",
        "y = 4\r\n",
        "x == y and x ** 2 > y"
      ],
      "execution_count": 1,
      "outputs": [
        {
          "output_type": "stream",
          "text": [
            "False\n"
          ],
          "name": "stdout"
        }
      ]
    },
    {
      "cell_type": "code",
      "metadata": {
        "colab": {
          "base_uri": "https://localhost:8080/"
        },
        "id": "L2AkDfcV3t07",
        "outputId": "8cf427de-1c44-45a4-deae-c3f49560b5bd"
      },
      "source": [
        "x = True\r\n",
        "y = False \r\n",
        "x or ( x and y)"
      ],
      "execution_count": 2,
      "outputs": [
        {
          "output_type": "execute_result",
          "data": {
            "text/plain": [
              "True"
            ]
          },
          "metadata": {
            "tags": []
          },
          "execution_count": 2
        }
      ]
    },
    {
      "cell_type": "code",
      "metadata": {
        "colab": {
          "base_uri": "https://localhost:8080/"
        },
        "id": "xQ92hQoD38jQ",
        "outputId": "75e3e74e-4e08-4de9-a726-bae6f4ab33b2"
      },
      "source": [
        "x = True\r\n",
        "y = False \r\n",
        "(x and y) or (not y)"
      ],
      "execution_count": 3,
      "outputs": [
        {
          "output_type": "execute_result",
          "data": {
            "text/plain": [
              "True"
            ]
          },
          "metadata": {
            "tags": []
          },
          "execution_count": 3
        }
      ]
    }
  ]
}