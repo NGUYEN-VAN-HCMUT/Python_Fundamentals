{
  "nbformat": 4,
  "nbformat_minor": 0,
  "metadata": {
    "colab": {
      "name": "Conditional1&2.ipynb",
      "provenance": [],
      "authorship_tag": "ABX9TyMwa1fPirozjiX/i4bOy4ad",
      "include_colab_link": true
    },
    "kernelspec": {
      "name": "python3",
      "display_name": "Python 3"
    }
  },
  "cells": [
    {
      "cell_type": "markdown",
      "metadata": {
        "id": "view-in-github",
        "colab_type": "text"
      },
      "source": [
        "<a href=\"https://colab.research.google.com/github/NGUYEN-VAN-HCMUT/Python_Fundamentals/blob/main/Conditional1%262.ipynb\" target=\"_parent\"><img src=\"https://colab.research.google.com/assets/colab-badge.svg\" alt=\"Open In Colab\"/></a>"
      ]
    },
    {
      "cell_type": "markdown",
      "metadata": {
        "id": "EFZ1gtLqGZhV"
      },
      "source": [
        "Exercise 6"
      ]
    },
    {
      "cell_type": "markdown",
      "metadata": {
        "id": "NMi5etg7GczV"
      },
      "source": [
        "Lý thuyết mệnh đề điều kiện"
      ]
    },
    {
      "cell_type": "markdown",
      "metadata": {
        "id": "3ObIvrf5GgAx"
      },
      "source": [
        "\r\n",
        "  \r\n",
        "  **Dạng 1**\r\n",
        "  \r\n",
        "\r\n",
        "\r\n",
        "\r\n",
        "   Is_hot = True\r\n",
        "\r\n",
        "   if Is_hot:\r\n",
        "    \r\n",
        "     print('đi tắm')\r\n",
        "    \r\n",
        "     print('bật máy lạnh')\r\n",
        "    \r\n",
        "     print('đi ra ngoài')\r\n",
        "   else:\r\n",
        "     print('Ở nhà')\r\n",
        "\r\n",
        "\r\n",
        "\r\n",
        "\r\n"
      ]
    },
    {
      "cell_type": "markdown",
      "metadata": {
        "id": "K82rwDmSVMYy"
      },
      "source": [
        "**Dạng 2**\r\n",
        "\r\n",
        "Thoi_tiet = 'ấm'\r\n",
        "\r\n",
        "if Thoi_tiet == 'nong':\r\n",
        "\r\n",
        "    print('đi tắm')\r\n",
        "\r\n",
        "    print('bật máy lạnh')\r\n",
        "\r\n",
        "    print('đi ra ngoài')\r\n",
        "\r\n",
        "elif Thoi_tiet == 'lanh': \r\n",
        "\r\n",
        "    print('ở nhà')\r\n",
        "\r\n",
        "else:\r\n",
        "\r\n",
        "    print('đi xem phim')\r\n",
        "\r\n",
        "    print('Mua bắp rang bơ')\r\n",
        "\r\n",
        "\r\n",
        "\r\n",
        "\r\n",
        "\r\n",
        "\r\n",
        "\r\n",
        "\r\n"
      ]
    },
    {
      "cell_type": "markdown",
      "metadata": {
        "id": "pifAPSe-adpa"
      },
      "source": [
        "**Yêu cầu**\r\n",
        "\r\n",
        "**Bài 1**\r\n",
        "\r\n",
        "Thoi_tiet = input('Thời tiết hôm nay như thế nào?')\r\n",
        "\r\n",
        "if Thoi_tiet == 'ấm':\r\n",
        "\r\n",
        "    print('Vậy đi xem phim thôi')\r\n",
        "\r\n",
        "elif Thoi_tiet == 'lạnh':\r\n",
        "\r\n",
        "    print('Vậy ở trong nhà nhé')\r\n",
        "\r\n",
        "else:\r\n",
        "\r\n",
        "    print(Vậy đi xem phim thôi)"
      ]
    },
    {
      "cell_type": "code",
      "metadata": {
        "id": "oBHjZNZFE3OY",
        "colab": {
          "base_uri": "https://localhost:8080/"
        },
        "outputId": "656e8c7c-d2b0-4f9f-ca43-9e9bc1394a0a"
      },
      "source": [
        "Thoi_tiet = input('Thời tiết hôm nay như thế nào?')\r\n",
        "\r\n",
        "if Thoi_tiet == 'ấm':\r\n",
        "  print('Vậy đi xem phim thôi')\r\n",
        "elif Thoi_tiet == 'lạnh':\r\n",
        "  print('Vậy ở trong nhà nhé')\r\n",
        "else:\r\n",
        "  print('Vậy đi xem phim thôi')"
      ],
      "execution_count": 4,
      "outputs": [
        {
          "output_type": "stream",
          "text": [
            "Thời tiết hôm nay như thế nào?lạnh\n",
            "Vậy ở trong nhà nhé\n"
          ],
          "name": "stdout"
        }
      ]
    },
    {
      "cell_type": "markdown",
      "metadata": {
        "id": "ppuTH3aQhHRa"
      },
      "source": [
        "**Yêu cầu**\r\n",
        "\r\n",
        "**Bài 2**\r\n",
        "\r\n",
        "name = input('Bạn tên là gì?')\r\n",
        "\r\n",
        "Print('Chào bạn tôi có thể giúp gì cho bạn')\r\n",
        "\r\n",
        "choosen = input('Bạn chọn yêu cầu nào?')\r\n",
        "\r\n",
        "if choosen == '1':\r\n",
        "\r\n",
        "    print('tính tổng')\r\n",
        "\r\n",
        "elif choosen == '2':\r\n",
        "\r\n",
        "    print('tính tích')\r\n",
        "\r\n",
        "else:\r\n",
        "\r\n",
        "    print('Tôi chưa có tính năng này')"
      ]
    },
    {
      "cell_type": "code",
      "metadata": {
        "colab": {
          "base_uri": "https://localhost:8080/"
        },
        "id": "px1qTT-ftBYi",
        "outputId": "42263faf-8cee-4604-e78b-8fd834f627e8"
      },
      "source": [
        "name = input('Bạn tên là gì')\r\n",
        "print('Chào {},'.format(name) + ' ' + 'tôi có thể giúp bạn')\r\n",
        "choosen = input('Người dùng chọn một trong hai trường hợp')\r\n",
        "\r\n",
        "if choosen == '1':\r\n",
        "  print('Tôi là vua phép cộng')\r\n",
        "  a = int(input('Nhập vào giá trị của a'))\r\n",
        "  b = int(input('Nhập vào giá trị của b'))\r\n",
        "  print('a + b = {}'.format(a+b))\r\n",
        "elif choosen == '2':\r\n",
        "  print('Tôi là vua phép nhân')\r\n",
        "  a = int(input('Nhập vào giá trị của a'))\r\n",
        "  b = int(input('Nhập vào giá trị của b'))\r\n",
        "  print('a * b = {}'.format(a*b))\r\n",
        "else:\r\n",
        "  print(':( Tôi chưa có tính năng này')"
      ],
      "execution_count": 11,
      "outputs": [
        {
          "output_type": "stream",
          "text": [
            "Bạn tên là gìhà\n",
            "Chào hà, tôi có thể giúp bạn\n",
            "Người dùng chọn một trong hai trường hợp1\n",
            "Tôi là vua phép cộng\n",
            "Nhập vào giá trị của a3\n",
            "Nhập vào giá trị của b7\n",
            "a + b = 10\n"
          ],
          "name": "stdout"
        }
      ]
    },
    {
      "cell_type": "code",
      "metadata": {
        "id": "SYINoMzkue36"
      },
      "source": [
        ""
      ],
      "execution_count": null,
      "outputs": []
    }
  ]
}